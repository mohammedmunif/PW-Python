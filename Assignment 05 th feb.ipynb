{
 "cells": [
  {
   "cell_type": "markdown",
   "id": "50eb8d49",
   "metadata": {},
   "source": [
    "# Assignment - 5th Jan "
   ]
  },
  {
   "cell_type": "markdown",
   "id": "d8beea30",
   "metadata": {},
   "source": [
    "1. Explain Class and Object with respect to Object-Oriented Programming. Give a suitable example"
   ]
  },
  {
   "cell_type": "markdown",
   "id": "7e5918b0",
   "metadata": {},
   "source": [
    "Classes and objects are central concepts in Object-Oriented Programming (OOP).\n",
    "\n",
    "A class is a blueprint for creating objects (a particular data structure), providing initial values for state (member variables or attributes), and implementations of behavior (member functions or methods).\n",
    "\n",
    "An object is an instance of a class. It is a unique entity that contains its own state and behavior. Objects interact with each other by sending messages to each other to request some action be taken, such as asking an object to perform a calculation, or to change its state.\n",
    "\n",
    "Here's an example in Python that demonstrates the concept of classes and objects:"
   ]
  },
  {
   "cell_type": "code",
   "execution_count": 2,
   "id": "0a23c484",
   "metadata": {},
   "outputs": [
    {
     "name": "stdout",
     "output_type": "stream",
     "text": [
      "Breed: Labrador\n",
      "Name: Buddy\n",
      "Age: 5\n",
      "Woof! Woof!\n",
      "Breed: German Shepherd\n",
      "Name: Max\n",
      "Age: 3\n",
      "Woof! Woof!\n"
     ]
    }
   ],
   "source": [
    "# Example: Class and Object in Python\n",
    "class Dog:\n",
    "    breed = \"\"\n",
    "    name = \"\"\n",
    "    age = 0\n",
    "\n",
    "    def bark(self):\n",
    "        print(\"Woof! Woof!\")\n",
    "\n",
    "dog1 = Dog()\n",
    "dog1.breed = \"Labrador\"\n",
    "dog1.name = \"Buddy\"\n",
    "dog1.age = 5\n",
    "\n",
    "dog2 = Dog()\n",
    "dog2.breed = \"German Shepherd\"\n",
    "dog2.name = \"Max\"\n",
    "dog2.age = 3\n",
    "\n",
    "print(\"Breed:\", dog1.breed)\n",
    "print(\"Name:\", dog1.name)\n",
    "print(\"Age:\", dog1.age)\n",
    "dog1.bark()\n",
    "\n",
    "print(\"Breed:\", dog2.breed)\n",
    "print(\"Name:\", dog2.name)\n",
    "print(\"Age:\", dog2.age)\n",
    "dog2.bark()\n"
   ]
  },
  {
   "cell_type": "markdown",
   "id": "76f9dbaa",
   "metadata": {},
   "source": [
    "2. Name the four pillars of OOPs."
   ]
  },
  {
   "cell_type": "markdown",
   "id": "ed7098c3",
   "metadata": {},
   "source": [
    "The four pillars of Object-Oriented Programming (OOP) are:\n",
    "\n",
    "1.Abstraction: It is the process of hiding the implementation details and exposing only the necessary information to the user.\n",
    "\n",
    "2.Encapsulation: It is the mechanism of wrapping data and code together as a single unit to protect the data from the outside world.\n",
    "\n",
    "3.Inheritance: It is the mechanism of creating a new class based on an existing class, where the new class inherits all the attributes and methods of the existing class.\n",
    "\n",
    "4.Polymorphism: It is the ability of an object to take multiple forms. This means that a single function or method can perform different operations based on the context in which it is called."
   ]
  },
  {
   "cell_type": "markdown",
   "id": "f32e7878",
   "metadata": {},
   "source": [
    "3. Explain why the init() function is used. Give a suitable example."
   ]
  },
  {
   "cell_type": "markdown",
   "id": "d02ecf9d",
   "metadata": {},
   "source": [
    "The __init__() function is used in Python as a special method or constructor of a class. It is called automatically when an object of the class is created and is used to initialize the attributes or properties of the class.\n",
    "\n",
    "The __init__() function allows you to pass initial values to the object when it is created, making it easier to set up the object with the required state"
   ]
  },
  {
   "cell_type": "code",
   "execution_count": 4,
   "id": "51884998",
   "metadata": {},
   "outputs": [
    {
     "name": "stdout",
     "output_type": "stream",
     "text": [
      "Mohammed Munif \n",
      "854\n"
     ]
    }
   ],
   "source": [
    "# for example:\n",
    "\n",
    "class Stud:\n",
    "    def __init__(self, name, roll_number):\n",
    "        self.name = name\n",
    "        self.roll_number = roll_number\n",
    "\n",
    "stud = Stud(\"Mohammed Munif \", 854)\n",
    "print(stud.name)\n",
    "print(stud.roll_number)"
   ]
  },
  {
   "cell_type": "markdown",
   "id": "9bfda410",
   "metadata": {},
   "source": [
    "4. Why self is used in OOPs?"
   ]
  },
  {
   "cell_type": "markdown",
   "id": "5899f20b",
   "metadata": {},
   "source": [
    "In object-oriented programming (OOP), self is used to refer to the current instance of a class. It is a reference to the instance on which a method is being invoked and is used to access the attributes and methods of the class. The use of self allows each object to have its own copy of the instance variables, and ensures that the method is operating on the correct instance of the class."
   ]
  },
  {
   "cell_type": "markdown",
   "id": "c9298db8",
   "metadata": {},
   "source": [
    "5. What is inheritance? Give an example for each type of inheritance."
   ]
  },
  {
   "cell_type": "markdown",
   "id": "596900d2",
   "metadata": {},
   "source": [
    "Inheritance is a fundamental concept in Object-Oriented Programming (OOP) that allows a new class to be created by inheriting attributes and behavior from an existing class, called the base or superclass. The new class is known as the derived or subclass. The derived class can add or override attributes and behavior of the base class."
   ]
  },
  {
   "cell_type": "code",
   "execution_count": 7,
   "id": "6b432fb6",
   "metadata": {},
   "outputs": [
    {
     "name": "stdout",
     "output_type": "stream",
     "text": [
      "Name: Buddy\n",
      "Species: Dog\n",
      "Breed: Labrador\n"
     ]
    }
   ],
   "source": [
    "## There are several types of inheritance in OOP, including:\n",
    "'''\n",
    "1.Single inheritance: The derived class inherits properties and behaviors from a single base class.\n",
    "\n",
    "'''\n",
    "\n",
    "# Example: Single Inheritance in Python\n",
    "class Animal:\n",
    "    def __init__(self, name, species):\n",
    "        self.name = name\n",
    "        self.species = species\n",
    "\n",
    "    def show_animal(self):\n",
    "        print(\"Name:\", self.name)\n",
    "        print(\"Species:\", self.species)\n",
    "\n",
    "class Dog(Animal):\n",
    "    def __init__(self, name, breed):\n",
    "        Animal.__init__(self, name, species=\"Dog\")\n",
    "        self.breed = breed\n",
    "\n",
    "    def show_dog(self):\n",
    "        print(\"Breed:\", self.breed)\n",
    "\n",
    "dog = Dog(\"Buddy\", \"Labrador\")\n",
    "dog.show_animal()\n",
    "dog.show_dog()\n"
   ]
  },
  {
   "cell_type": "code",
   "execution_count": 9,
   "id": "993d949d",
   "metadata": {},
   "outputs": [
    {
     "name": "stdout",
     "output_type": "stream",
     "text": [
      "Name: Munif\n",
      "Age: 25\n",
      "Salary: 12000\n",
      "Department: DW\n"
     ]
    }
   ],
   "source": [
    "##Multi-level Inheritance: A subclass inherits from a base class, which in turn inherits from another base class.\n",
    "\n",
    "# Example: Multi-level Inheritance in Python\n",
    "class Person:\n",
    "    def __init__(self, name, age):\n",
    "        self.name = name\n",
    "        self.age = age\n",
    "\n",
    "    def show_person(self):\n",
    "        print(\"Name:\", self.name)\n",
    "        print(\"Age:\", self.age)\n",
    "\n",
    "class Employee(Person):\n",
    "    def __init__(self, name, age, salary):\n",
    "        Person.__init__(self, name, age)\n",
    "        self.salary = salary\n",
    "\n",
    "    def show_employee(self):\n",
    "        print(\"Salary:\", self.salary)\n",
    "\n",
    "class Manager(Employee):\n",
    "    def __init__(self, name, age, salary, department):\n",
    "        Employee.__init__(self, name, age, salary)\n",
    "        self.department = department\n",
    "\n",
    "    def show_manager(self):\n",
    "        print(\"Department:\", self.department)\n",
    "\n",
    "manager = Manager(\"Munif\", 25, 12000, \"DW\")\n",
    "manager.show_person()\n",
    "manager.show_employee()\n",
    "manager.show_manager()\n"
   ]
  },
  {
   "cell_type": "code",
   "execution_count": null,
   "id": "b4a89903",
   "metadata": {},
   "outputs": [],
   "source": []
  }
 ],
 "metadata": {
  "kernelspec": {
   "display_name": "Python 3 (ipykernel)",
   "language": "python",
   "name": "python3"
  },
  "language_info": {
   "codemirror_mode": {
    "name": "ipython",
    "version": 3
   },
   "file_extension": ".py",
   "mimetype": "text/x-python",
   "name": "python",
   "nbconvert_exporter": "python",
   "pygments_lexer": "ipython3",
   "version": "3.9.13"
  }
 },
 "nbformat": 4,
 "nbformat_minor": 5
}

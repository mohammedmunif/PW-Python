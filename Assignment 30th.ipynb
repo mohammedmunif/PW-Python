{
 "cells": [
  {
   "cell_type": "markdown",
   "id": "5191913e",
   "metadata": {},
   "source": [
    "# Assignment -2 of 30th Jan"
   ]
  },
  {
   "cell_type": "markdown",
   "id": "f8deb5d3",
   "metadata": {},
   "source": [
    "1. A program to accept percentage from the user and display the grade "
   ]
  },
  {
   "cell_type": "code",
   "execution_count": null,
   "id": "062a6829",
   "metadata": {},
   "outputs": [],
   "source": [
    "grade = int(input(\"enter your marks: \"))\n",
    "if grade >= 90:\n",
    "    print('Your Grade is  : A ')\n",
    "elif grade >= 80 and grade <= 90:\n",
    "    print('Your Grade is  : B ')\n",
    "elif grade >= 60 and grade <= 80:\n",
    "    print('Your Grade is  : C ')\n",
    "else:\n",
    "    print('Your Grade is  : D as your mark is below 60 ')\n"
   ]
  },
  {
   "cell_type": "markdown",
   "id": "423a2946",
   "metadata": {},
   "source": [
    "2.A program to accept cost price of a bike and display the road tax to be paid according to the following criteria"
   ]
  },
  {
   "cell_type": "code",
   "execution_count": null,
   "id": "24fc64c6",
   "metadata": {},
   "outputs": [],
   "source": [
    "Cost_price = int(input(\"Enter Cost Price of Bike: \"))\n",
    "if Cost_price > 100000:\n",
    "    print('Your Road Tax is  : 15% ')\n",
    "elif Cost_price >= 50000 and Cost_price <= 100000:\n",
    "    print('Your Road Tax is  : 10% ')\n",
    "else:\n",
    "    print('Your Road Tax is  : 5% ')"
   ]
  },
  {
   "cell_type": "markdown",
   "id": "c6d467be",
   "metadata": {},
   "source": [
    "3.Except any city from the user and display the monuments of the city"
   ]
  },
  {
   "cell_type": "code",
   "execution_count": null,
   "id": "a3745dc2",
   "metadata": {},
   "outputs": [],
   "source": [
    "city = input(\"Enter the name of the City : \")\n",
    "if city == 'Delhi' or city == 'delhi':\n",
    "    print(' Monuments  : Red Fort')\n",
    "elif city == 'Agra'  or city == 'agra':\n",
    "    print(' Monuments  : Taj Mahal ')\n",
    "elif city == 'Jaipur' or city == 'jaipur':\n",
    "    print(' Monuments : Jal Mahal ')"
   ]
  },
  {
   "cell_type": "markdown",
   "id": "c7e9a4e0",
   "metadata": {},
   "source": [
    "4.Check how many times a given number can be divided by 3 before it is less than or equal to 10."
   ]
  },
  {
   "cell_type": "code",
   "execution_count": null,
   "id": "37472efd",
   "metadata": {},
   "outputs": [],
   "source": [
    "a= 3\n",
    "\n",
    "while a <= 10 :  \n",
    "    print(a)\n",
    "    a = a /3\n"
   ]
  },
  {
   "cell_type": "markdown",
   "id": "98d7c0fa",
   "metadata": {},
   "source": [
    "5.why and when to use the while loop in python with an example"
   ]
  },
  {
   "cell_type": "markdown",
   "id": "43862342",
   "metadata": {},
   "source": [
    "The while loop in Python is used when you want to repeatedly execute a block of code as long as a certain condition is true.\n",
    "\n",
    "The code inside the loop is executed repeatedly until the condition becomes false. If the condition is never false, the loop will run indefinitely, so it's important to make sure that the condition will eventually become false."
   ]
  },
  {
   "cell_type": "code",
   "execution_count": null,
   "id": "13535851",
   "metadata": {},
   "outputs": [],
   "source": [
    "count = 1\n",
    "\n",
    "while count <= 10:\n",
    "    print(count)\n",
    "    count += 1\n"
   ]
  },
  {
   "cell_type": "markdown",
   "id": "6794eb57",
   "metadata": {},
   "source": [
    "This loop will print the numbers from 1 to 10, and then exit the loop. The condition count <= 10 is checked before each iteration, and if it's true, the code inside the loop is executed. When count reaches 11, the condition becomes false, and the loop exits."
   ]
  },
  {
   "cell_type": "markdown",
   "id": "fb5a940a",
   "metadata": {},
   "source": [
    "6.Use Nested while loop to print different pattern"
   ]
  },
  {
   "cell_type": "code",
   "execution_count": null,
   "id": "3e7ebb4c",
   "metadata": {},
   "outputs": [],
   "source": [
    "# Print Right Triangle using While Loop\n",
    "n = int(input('Enter number of rows : '))\n",
    "i = 1\n",
    "while i <= n :\n",
    "    j = 1\n",
    "    while j <= i:\n",
    "        print(\"*\", end = \" \")\n",
    "        j += 1\n",
    "    print()\n",
    "    i += 1"
   ]
  },
  {
   "cell_type": "code",
   "execution_count": null,
   "id": "f2d22789",
   "metadata": {},
   "outputs": [],
   "source": [
    "#Print Inverted Right Triangle using While Loop\n",
    "n = int(input('Enter number of rows : '))\n",
    " \n",
    "i = 1\n",
    "while i <= n :\n",
    "    j = n\n",
    "    while j >= i:\n",
    "        print(\"*\", end = \" \")\n",
    "        j -= 1\n",
    "    print()\n",
    "    i += 1"
   ]
  },
  {
   "cell_type": "code",
   "execution_count": null,
   "id": "5258708f",
   "metadata": {},
   "outputs": [],
   "source": [
    "#Print Number Pattern\n",
    "n = int(input('Enter number of rows : '))\n",
    " \n",
    "k = 1\n",
    "i = 1\n",
    "while i <= n :\n",
    "    j = 1\n",
    "    while j <= i:\n",
    "        print(\"{:3d}\".format(k), end = \" \")\n",
    "        j += 1\n",
    "        k += 1\n",
    "    print()\n",
    "    i += 1"
   ]
  },
  {
   "cell_type": "markdown",
   "id": "7418fc7a",
   "metadata": {},
   "source": [
    "7.Reverse for Loop from 10 to 1"
   ]
  },
  {
   "cell_type": "code",
   "execution_count": null,
   "id": "8031ae90",
   "metadata": {},
   "outputs": [],
   "source": [
    "for i in range(10, 0, -1):\n",
    "    print(i)"
   ]
  },
  {
   "cell_type": "markdown",
   "id": "09a14962",
   "metadata": {},
   "source": [
    "8.Reverse while Loop from 10 to 1"
   ]
  },
  {
   "cell_type": "code",
   "execution_count": null,
   "id": "b326ba85",
   "metadata": {},
   "outputs": [],
   "source": [
    "i = 10\n",
    "while i >= 1:\n",
    "    print(i)\n",
    "    i =i- 1"
   ]
  },
  {
   "cell_type": "code",
   "execution_count": null,
   "id": "5cf77109",
   "metadata": {},
   "outputs": [],
   "source": []
  }
 ],
 "metadata": {
  "kernelspec": {
   "display_name": "Python 3 (ipykernel)",
   "language": "python",
   "name": "python3"
  },
  "language_info": {
   "codemirror_mode": {
    "name": "ipython",
    "version": 3
   },
   "file_extension": ".py",
   "mimetype": "text/x-python",
   "name": "python",
   "nbconvert_exporter": "python",
   "pygments_lexer": "ipython3",
   "version": "3.9.13"
  }
 },
 "nbformat": 4,
 "nbformat_minor": 5
}

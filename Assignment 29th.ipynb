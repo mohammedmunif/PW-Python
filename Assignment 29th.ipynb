{
 "cells": [
  {
   "cell_type": "markdown",
   "id": "c3308a9c",
   "metadata": {},
   "source": [
    "# Assignment -1 of 29th Jan"
   ]
  },
  {
   "cell_type": "markdown",
   "id": "225daba9",
   "metadata": {},
   "source": [
    "1.Python was developed by Guido van Rossum and was first released in 1991."
   ]
  },
  {
   "cell_type": "markdown",
   "id": "700cd20e",
   "metadata": {},
   "source": [
    "2.Python supports several programming paradigms including procedural, object-oriented, functional, and aspect-oriented programming. It also supports scripting and can be used to develop a wide range of applications including web, desktop, scientific, and network programming."
   ]
  },
  {
   "cell_type": "markdown",
   "id": "465cfa98",
   "metadata": {},
   "source": [
    "3.Yes, Python is case sensitive when dealing with identifiers (e.g. variable names, function names, etc.). For example, the names \"myVariable\" and \"myvariable\" would be treated as two different identifiers in Python."
   ]
  },
  {
   "cell_type": "markdown",
   "id": "d67396b8",
   "metadata": {},
   "source": [
    "4.The correct extension for a Python file is \".py\". This extension is used to indicate to the operating system and to other software that the file is a Python script and should be executed using a Python interpreter."
   ]
  },
  {
   "cell_type": "markdown",
   "id": "8bcffbf0",
   "metadata": {},
   "source": [
    "5.Python is an interpreted language. This means that the code is executed line by line, by an interpreter, rather than being compiled into machine code and executed directly by the hardware. The interpretation process makes it easier to develop and debug code, but can result in slower execution times compared to compiled languages."
   ]
  },
  {
   "cell_type": "markdown",
   "id": "76a0fe9d",
   "metadata": {},
   "source": [
    "6.In Python, there are several blocks of code used to define different structures in the language:\n",
    "\n",
    "Functions - defined using the \"def\" keyword and contain a block of code that can be called multiple times.\n",
    "\n",
    "Classes - defined using the \"class\" keyword and serve as a blueprint for creating objects.\n",
    "\n",
    "Conditional statements - defined using \"if\", \"elif\", and \"else\" keywords, and are used to control the flow of a program based on certain conditions.\n",
    "\n",
    "Loops - defined using \"for\" and \"while\" keywords, and are used to repeat a block of code until a specific condition is met."
   ]
  },
  {
   "cell_type": "markdown",
   "id": "e70b0035",
   "metadata": {},
   "source": [
    "7.In Python, the character \"#\" is used to give a single line comment. Anything written after the \"#\" symbol on a line is ignored by the interpreter and is used as a comment to provide additional information to the reader of the code. \n",
    "For example:"
   ]
  },
  {
   "cell_type": "code",
   "execution_count": 2,
   "id": "a935e337",
   "metadata": {},
   "outputs": [],
   "source": [
    "# This is a single line comment in Python\n",
    "x = 10 # This is also a single line comment\n"
   ]
  },
  {
   "cell_type": "markdown",
   "id": "639a9880",
   "metadata": {},
   "source": [
    "8.To find the version of Python that you are currently working on:\n",
    "\n",
    "sys.version - returns a string that contains information about the Python version, including the version number and build details.\n",
    "\n",
    "sys.version_info - returns a named tuple that contains information about the Python version, including the major, minor, and micro version numbers."
   ]
  },
  {
   "cell_type": "markdown",
   "id": "80b91b83",
   "metadata": {},
   "source": [
    "9.In Python, anonymous functions can be created using the \"lambda\" keyword. A lambda function is a small, one-time use, throwaway function that is defined without a name. Lambda functions can be useful when you need to pass a simple function as an argument to another function."
   ]
  },
  {
   "cell_type": "markdown",
   "id": "38eb268c",
   "metadata": {},
   "source": [
    "10.\"pip\" stands for \"Pip Installs Packages\". It is the default package manager for Python, used to install and manage packages and libraries that are required for a project. \"pip\" allows you to easily download and install packages from the Python Package Index (PyPI) and other repositories, as well as manage the dependencies between packages."
   ]
  },
  {
   "cell_type": "markdown",
   "id": "42e18d51",
   "metadata": {},
   "source": [
    "11.Python has many built-in functions that can be used for various purposes. Some of the most commonly used built-in functions in Python are:\n",
    "\n",
    "print() - used to display output to the console.\n",
    "\n",
    "len() - returns the length of a list, string, or other iterable object.\n",
    "\n",
    "int() and float() - used to convert a string or a number to an integer or a floating-point number, respectively.\n",
    "\n",
    "str() - used to convert a number or any other object to a string.\n",
    "\n",
    "max() and min() - used to find the maximum and minimum values in a list or other iterable object.\n",
    "\n",
    "sorted() - used to sort a list or other iterable object.\n",
    "\n",
    "sum() - used to find the sum of the elements in a list or other iterable object.\n",
    "\n",
    "abs() - used to find the absolute value of a number.\n",
    "\n",
    "map() - used to apply a function to each element of a list or other iterable object.\n",
    "\n",
    "filter() - used to filter elements"
   ]
  },
  {
   "cell_type": "markdown",
   "id": "63c9e474",
   "metadata": {},
   "source": [
    "12.In Python, there is no specific maximum length for identifiers (variable names, function names, etc.). However, it is recommended to keep identifier names short and descriptive, and the standard limit for many systems is around 255 characters. In practice, a much shorter length is usually sufficient, and longer names can make the code harder to read and maintain."
   ]
  },
  {
   "cell_type": "markdown",
   "id": "01ae3906",
   "metadata": {},
   "source": [
    "13.Python is a widely used high-level programming language with a lot of benefits. Some of the key benefits of using Python are:\n",
    "\n",
    "Easy to learn and use: Python has a simple and intuitive syntax, making it easy for new programmers to pick up.\n",
    "\n",
    "Versatile: Python can be used for a wide range of tasks, including web development, scientific computing, data analysis, artificial intelligence, and more.\n",
    "\n",
    "Large Standard Library: Python has a large standard library that includes modules for almost any task you can imagine, from web services to file I/O to operating system interfaces.\n",
    "\n",
    "Open Source: Python is an open-source programming language, which means that it is free to use, distribute, and modify.\n",
    "\n",
    "Strong Community: Python has a large and supportive community of users, making it easy to find help and resources when you need it.\n",
    "\n",
    "Dynamic Typing: Python uses dynamic typing, meaning that you can change the type of a variable at any time, making it easy to work with different types of data.\n",
    "\n",
    "Readable Code: Python code is highly readable, which makes it easier to maintain and debug.\n",
    "\n",
    "Cross-platform: Python can run on various platforms, including Windows, Mac OS, and Linux, making it a versatile choice for developers."
   ]
  },
  {
   "cell_type": "markdown",
   "id": "2ca3282c",
   "metadata": {},
   "source": [
    "14.Memory in Python is managed by the Python memory manager, which is a component of the Python interpreter. The memory manager is responsible for allocating and deallocating memory for Python objects, as well as for managing the memory used by the Python interpreter itself."
   ]
  },
  {
   "cell_type": "markdown",
   "id": "452e8482",
   "metadata": {},
   "source": [
    "15.To install Python on Windows and set the path variables, follow these steps:\n",
    "\n",
    "Download the Python installation package from the official Python website (https://www.python.org/downloads/).\n",
    "\n",
    "Run the installation package and follow the on-screen instructions to complete the installation process. It is recommended to choose the option to add Python to the system PATH environment variable, so that i can run Python from anywhere in the command prompt.\n",
    "\n",
    "Once the installation is complete, open the Command Prompt and type \"python\" to check if the installation was successful. If Python is installed correctly, you should see the Python prompt (>>>).\n",
    "\n",
    "To set the path variables, follow these steps:\n",
    "a. Right-click on the Start button and click on \"System\".\n",
    "b. Click on \"Advanced system settings\".\n",
    "c. Click on the \"Environment Variables\" button.\n",
    "d. Under \"System Variables\", scroll down and find the \"Path\" variable, then click on \"Edit\".\n",
    "e. Add the location of your Python installation to the end of the \"Variable value\" field. The location should be something like \"C:\\PythonXX\".\n",
    "f. Click \"OK\" to close all the windows.\n",
    "\n",
    "Now, we should be able to run Python from anywhere in the command prompt. To confirm, open the Command Prompt and type \"python\". If everything is set up correctly, you should see the Python prompt (>>>)."
   ]
  },
  {
   "cell_type": "markdown",
   "id": "320c38dc",
   "metadata": {},
   "source": [
    "16.Yes, indentation is required in Python. In Python, indentation is used to define blocks of code, such as functions, loops, and conditional statements. The level of indentation is used to indicate the scope of the code, and it is necessary to maintain a consistent level of indentation within a block of code."
   ]
  },
  {
   "cell_type": "code",
   "execution_count": 3,
   "id": "2076720a",
   "metadata": {},
   "outputs": [
    {
     "name": "stdout",
     "output_type": "stream",
     "text": [
      "0\n",
      "1\n",
      "2\n",
      "3\n",
      "4\n",
      "5\n",
      "6\n",
      "7\n",
      "8\n",
      "9\n"
     ]
    }
   ],
   "source": [
    "for i in range(10):\n",
    "    print(i)\n"
   ]
  },
  {
   "cell_type": "code",
   "execution_count": null,
   "id": "98c7ee9f",
   "metadata": {},
   "outputs": [],
   "source": []
  }
 ],
 "metadata": {
  "kernelspec": {
   "display_name": "Python 3 (ipykernel)",
   "language": "python",
   "name": "python3"
  },
  "language_info": {
   "codemirror_mode": {
    "name": "ipython",
    "version": 3
   },
   "file_extension": ".py",
   "mimetype": "text/x-python",
   "name": "python",
   "nbconvert_exporter": "python",
   "pygments_lexer": "ipython3",
   "version": "3.9.13"
  }
 },
 "nbformat": 4,
 "nbformat_minor": 5
}
